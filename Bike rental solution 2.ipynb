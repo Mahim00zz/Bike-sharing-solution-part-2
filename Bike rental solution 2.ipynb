{
  "nbformat": 4,
  "nbformat_minor": 0,
  "metadata": {
    "colab": {
      "provenance": []
    },
    "kernelspec": {
      "name": "python3",
      "display_name": "Python 3"
    }
  },
  "cells": [
    {
      "cell_type": "markdown",
      "source": [
        "# Cross Fold model\n",
        "\n"
      ],
      "metadata": {
        "id": "QGW4XIAsJVUw"
      }
    },
    {
      "cell_type": "markdown",
      "source": [
        "To begin with, load the data frame created in Part 1. You may either repeat Sec. 1 on the original file or save the data frame from Part 1 and load it here."
      ],
      "metadata": {
        "id": "IlZfC1aaSVh5"
      }
    },
    {
      "cell_type": "code",
      "source": [
        "import pandas as pd\n",
        "\n",
        "Raw_data = pd.read_csv(\"day.csv\")\n",
        "Raw_data.head()\n",
        "\n",
        "\n",
        "print(\"Shape of DataFrame:\", Raw_data.shape)\n",
        "\n",
        "\n",
        "print(Raw_data.dtypes)\n",
        "\n",
        "\n",
        "Raw_data['dteday'] = pd.to_datetime(Raw_data['dteday'])\n",
        "print(Raw_data.dtypes)\n",
        "\n",
        "\n",
        "\n",
        "Raw_data['yr'] = Raw_data['dteday'].dt.year\n",
        "\n",
        "print(Raw_data.head())\n",
        "\n",
        "\n",
        "\n",
        "columns_to_remove = ['casual', 'registered', 'instant', 'yr', 'atemp']\n",
        "new_data = Raw_data.drop(columns=columns_to_remove)\n",
        "\n",
        "print(new_data)\n",
        "\n",
        "\n",
        "missing_values = new_data.isna().sum()\n",
        "\n",
        "print(missing_values)\n",
        "\n",
        "\n",
        "\n"
      ],
      "metadata": {
        "colab": {
          "base_uri": "https://localhost:8080/"
        },
        "id": "1eS3Ju1m5FQQ",
        "outputId": "6f4350ab-4d3b-4c8b-8973-9b1752b958c8"
      },
      "execution_count": null,
      "outputs": [
        {
          "output_type": "stream",
          "name": "stdout",
          "text": [
            "Shape of DataFrame: (731, 16)\n",
            "instant         int64\n",
            "dteday         object\n",
            "season          int64\n",
            "yr              int64\n",
            "mnth            int64\n",
            "holiday         int64\n",
            "weekday         int64\n",
            "workingday      int64\n",
            "weathersit      int64\n",
            "temp          float64\n",
            "atemp         float64\n",
            "hum           float64\n",
            "windspeed     float64\n",
            "casual          int64\n",
            "registered      int64\n",
            "cnt             int64\n",
            "dtype: object\n",
            "instant                int64\n",
            "dteday        datetime64[ns]\n",
            "season                 int64\n",
            "yr                     int64\n",
            "mnth                   int64\n",
            "holiday                int64\n",
            "weekday                int64\n",
            "workingday             int64\n",
            "weathersit             int64\n",
            "temp                 float64\n",
            "atemp                float64\n",
            "hum                  float64\n",
            "windspeed            float64\n",
            "casual                 int64\n",
            "registered             int64\n",
            "cnt                    int64\n",
            "dtype: object\n",
            "   instant     dteday  season    yr  mnth  holiday  weekday  workingday  \\\n",
            "0        1 2011-01-01       1  2011     1        0        6           0   \n",
            "1        2 2011-01-02       1  2011     1        0        0           0   \n",
            "2        3 2011-01-03       1  2011     1        0        1           1   \n",
            "3        4 2011-01-04       1  2011     1        0        2           1   \n",
            "4        5 2011-01-05       1  2011     1        0        3           1   \n",
            "\n",
            "   weathersit      temp     atemp       hum  windspeed  casual  registered  \\\n",
            "0           2  0.344167  0.363625  0.805833   0.160446     331         654   \n",
            "1           2  0.363478  0.353739  0.696087   0.248539     131         670   \n",
            "2           1  0.196364  0.189405  0.437273   0.248309     120        1229   \n",
            "3           1  0.200000  0.212122  0.590435   0.160296     108        1454   \n",
            "4           1  0.226957  0.229270  0.436957   0.186900      82        1518   \n",
            "\n",
            "    cnt  \n",
            "0   985  \n",
            "1   801  \n",
            "2  1349  \n",
            "3  1562  \n",
            "4  1600  \n",
            "        dteday  season  mnth  holiday  weekday  workingday  weathersit  \\\n",
            "0   2011-01-01       1     1        0        6           0           2   \n",
            "1   2011-01-02       1     1        0        0           0           2   \n",
            "2   2011-01-03       1     1        0        1           1           1   \n",
            "3   2011-01-04       1     1        0        2           1           1   \n",
            "4   2011-01-05       1     1        0        3           1           1   \n",
            "..         ...     ...   ...      ...      ...         ...         ...   \n",
            "726 2012-12-27       1    12        0        4           1           2   \n",
            "727 2012-12-28       1    12        0        5           1           2   \n",
            "728 2012-12-29       1    12        0        6           0           2   \n",
            "729 2012-12-30       1    12        0        0           0           1   \n",
            "730 2012-12-31       1    12        0        1           1           2   \n",
            "\n",
            "         temp       hum  windspeed   cnt  \n",
            "0    0.344167  0.805833   0.160446   985  \n",
            "1    0.363478  0.696087   0.248539   801  \n",
            "2    0.196364  0.437273   0.248309  1349  \n",
            "3    0.200000  0.590435   0.160296  1562  \n",
            "4    0.226957  0.436957   0.186900  1600  \n",
            "..        ...       ...        ...   ...  \n",
            "726  0.254167  0.652917   0.350133  2114  \n",
            "727  0.253333  0.590000   0.155471  3095  \n",
            "728  0.253333  0.752917   0.124383  1341  \n",
            "729  0.255833  0.483333   0.350754  1796  \n",
            "730  0.215833  0.577500   0.154846  2729  \n",
            "\n",
            "[731 rows x 11 columns]\n",
            "dteday        0\n",
            "season        0\n",
            "mnth          0\n",
            "holiday       0\n",
            "weekday       0\n",
            "workingday    0\n",
            "weathersit    0\n",
            "temp          0\n",
            "hum           0\n",
            "windspeed     0\n",
            "cnt           0\n",
            "dtype: int64\n"
          ]
        }
      ]
    },
    {
      "cell_type": "markdown",
      "source": [
        "## 3. Feature Selection\n",
        "\n",
        "Feature selection is critical for building effective machine learning models. It helps to reduce the noise in the data, improve model performance, and decrease the computational cost."
      ],
      "metadata": {
        "id": "_sbwOLVXElNh"
      }
    },
    {
      "cell_type": "markdown",
      "source": [
        "3.1 Display the list of feature names (column names)."
      ],
      "metadata": {
        "id": "iOsZBetwEuXO"
      }
    },
    {
      "cell_type": "code",
      "source": [
        "Column_names = new_data.columns.tolist()\n",
        "print(\"Column names:\")\n",
        "print(Column_names)"
      ],
      "metadata": {
        "id": "65mmfpJSE0po",
        "colab": {
          "base_uri": "https://localhost:8080/"
        },
        "outputId": "371cfa74-7b02-4a2e-964c-fa21a7b84134"
      },
      "execution_count": null,
      "outputs": [
        {
          "output_type": "stream",
          "name": "stdout",
          "text": [
            "Column names:\n",
            "['dteday', 'season', 'mnth', 'holiday', 'weekday', 'workingday', 'weathersit', 'temp', 'hum', 'windspeed', 'cnt']\n"
          ]
        }
      ]
    },
    {
      "cell_type": "code",
      "source": [
        "print(new_data.columns)"
      ],
      "metadata": {
        "colab": {
          "base_uri": "https://localhost:8080/"
        },
        "id": "_CwMlfVKfHoy",
        "outputId": "75576d87-71e9-497e-ff83-9f9a520a5b63"
      },
      "execution_count": null,
      "outputs": [
        {
          "output_type": "stream",
          "name": "stdout",
          "text": [
            "Index(['dteday', 'season', 'mnth', 'holiday', 'weekday', 'workingday',\n",
            "       'weathersit', 'temp', 'hum', 'windspeed', 'cnt'],\n",
            "      dtype='object')\n"
          ]
        }
      ]
    },
    {
      "cell_type": "markdown",
      "source": [
        "3.2 Create new features:\n",
        "- \"is_weekend\": indicates whether the day was during a weekend\n",
        "- Apply one-hot encoding to \"season\" and \"weathersit\" using [pd.get_dummies](https://pandas.pydata.org/docs/reference/api/pandas.get_dummies.html)\n",
        "\n",
        "Please also remove the feature 'dteday' from the data frame."
      ],
      "metadata": {
        "id": "0dvxeS_2FFH7"
      }
    },
    {
      "cell_type": "code",
      "source": [
        "#5 workdays in week rest week end\n",
        "new_data['is_weekend'] = (new_data['dteday'].dt.dayofweek >= 5).astype(int)\n",
        "\n",
        "\n",
        "\n",
        "new_data = pd.get_dummies(new_data, columns=['season', 'weathersit'], drop_first=True)\n",
        "\n",
        "new_data.drop(columns=['dteday'], inplace=True)\n",
        "\n",
        "\n",
        "print(new_data.head())"
      ],
      "metadata": {
        "id": "MTT9sJu8KLVv",
        "colab": {
          "base_uri": "https://localhost:8080/"
        },
        "outputId": "ba7f8dce-4dac-4828-ccb2-e35b234e65f7"
      },
      "execution_count": null,
      "outputs": [
        {
          "output_type": "stream",
          "name": "stdout",
          "text": [
            "   mnth  holiday  weekday  workingday      temp       hum  windspeed   cnt  \\\n",
            "0     1        0        6           0  0.344167  0.805833   0.160446   985   \n",
            "1     1        0        0           0  0.363478  0.696087   0.248539   801   \n",
            "2     1        0        1           1  0.196364  0.437273   0.248309  1349   \n",
            "3     1        0        2           1  0.200000  0.590435   0.160296  1562   \n",
            "4     1        0        3           1  0.226957  0.436957   0.186900  1600   \n",
            "\n",
            "   is_weekend  season_2  season_3  season_4  weathersit_2  weathersit_3  \n",
            "0           1     False     False     False          True         False  \n",
            "1           1     False     False     False          True         False  \n",
            "2           0     False     False     False         False         False  \n",
            "3           0     False     False     False         False         False  \n",
            "4           0     False     False     False         False         False  \n"
          ]
        }
      ]
    },
    {
      "cell_type": "markdown",
      "source": [
        "3.3 Calculate the matrix of correlation coefficients between input features and the output feature (the 'cnt' column). Examine the features that has -0.1 < coefficient < 0.1 with the `cnt` column. Decide whether you should remove them from the dataset."
      ],
      "metadata": {
        "id": "mf6t-q3QE09C"
      }
    },
    {
      "cell_type": "code",
      "source": [
        "correlation_matrix = new_data.corr()"
      ],
      "metadata": {
        "id": "YW9QbAcJiOW-"
      },
      "execution_count": null,
      "outputs": []
    },
    {
      "cell_type": "code",
      "source": [
        "low_correlation_features = correlation_matrix[(correlation_matrix['cnt'] > -0.1) & (correlation_matrix['cnt'] < 0.1)]\n",
        "\n",
        "print(\"Features correlation coefficient from -0.1 to 0.1: \")\n",
        "print('\\n',low_correlation_features.head())\n",
        "\n",
        "\n",
        "#I see that the correlation coefficients are all close to or below 0 which means there is no significant\n",
        "#relationships between 'cnt' and all the other comparing features. Since, the correlation is not strong I will get rid of the features and analyze further.\n"
      ],
      "metadata": {
        "id": "iuuC-9jqFSag",
        "colab": {
          "base_uri": "https://localhost:8080/"
        },
        "outputId": "a0e5e763-2c40-4dc6-d925-da8e893b5043"
      },
      "execution_count": null,
      "outputs": [
        {
          "output_type": "stream",
          "name": "stdout",
          "text": [
            "Features correlation coefficient from -0.1 to 0.1: \n",
            "\n",
            "                 mnth   holiday   weekday  workingday      temp       hum  \\\n",
            "holiday     0.019191  1.000000 -0.101960   -0.253023 -0.028556 -0.015937   \n",
            "weekday     0.009509 -0.101960  1.000000    0.035790 -0.000170 -0.052232   \n",
            "workingday -0.005901 -0.253023  0.035790    1.000000  0.052660  0.024327   \n",
            "is_weekend -0.001021 -0.109187  0.000867   -0.934049 -0.043564 -0.019112   \n",
            "season_4    0.686954  0.016915 -0.008771   -0.005149 -0.224793  0.162732   \n",
            "\n",
            "            windspeed       cnt  is_weekend  season_2  season_3  season_4  \\\n",
            "holiday      0.006292 -0.068348   -0.109187 -0.024265 -0.026247  0.016915   \n",
            "weekday      0.014282  0.067443    0.000867 -0.002355  0.010177 -0.008771   \n",
            "workingday  -0.018796  0.061156   -0.934049  0.014543  0.016218 -0.005149   \n",
            "is_weekend   0.016990 -0.037604    1.000000 -0.005985 -0.006974 -0.000954   \n",
            "season_4    -0.135466  0.065593   -0.000954 -0.329051 -0.333831  1.000000   \n",
            "\n",
            "            weathersit_2  weathersit_3  \n",
            "holiday        -0.018972     -0.029577  \n",
            "weekday         0.024074      0.016586  \n",
            "workingday      0.050099      0.028820  \n",
            "is_weekend     -0.044471     -0.018693  \n",
            "season_4        0.032716      0.093240  \n"
          ]
        }
      ]
    },
    {
      "cell_type": "code",
      "source": [
        "features_to_remove = low_correlation_features.index.tolist()\n",
        "\n",
        "print('Remove list:', features_to_remove)\n",
        "\n",
        "remaining_features_data = new_data.drop(columns=features_to_remove)\n",
        "\n",
        "print(\"\\nRemaining features after removal of low_correlation_features:\")\n",
        "print(remaining_features_data.head())\n"
      ],
      "metadata": {
        "colab": {
          "base_uri": "https://localhost:8080/"
        },
        "id": "f4Ii43mzDF2t",
        "outputId": "d8d89153-107e-4382-e933-eb6a35553029"
      },
      "execution_count": null,
      "outputs": [
        {
          "output_type": "stream",
          "name": "stdout",
          "text": [
            "Remove list: ['holiday', 'weekday', 'workingday', 'is_weekend', 'season_4']\n",
            "\n",
            "Remaining features after removal of low_correlation_features:\n",
            "   mnth      temp       hum  windspeed   cnt  season_2  season_3  \\\n",
            "0     1  0.344167  0.805833   0.160446   985     False     False   \n",
            "1     1  0.363478  0.696087   0.248539   801     False     False   \n",
            "2     1  0.196364  0.437273   0.248309  1349     False     False   \n",
            "3     1  0.200000  0.590435   0.160296  1562     False     False   \n",
            "4     1  0.226957  0.436957   0.186900  1600     False     False   \n",
            "\n",
            "   weathersit_2  weathersit_3  \n",
            "0          True         False  \n",
            "1          True         False  \n",
            "2         False         False  \n",
            "3         False         False  \n",
            "4         False         False  \n"
          ]
        }
      ]
    },
    {
      "cell_type": "markdown",
      "source": [
        "3.4 Data normalization. Apply standard scaling to all **input features**. The output column \"cnt\" should not be modified. Display the first 5 rows of the transformed dataset."
      ],
      "metadata": {
        "id": "nMCmQgdiIeEF"
      }
    },
    {
      "cell_type": "code",
      "source": [
        "#reset and transform\n",
        "from sklearn.preprocessing import StandardScaler\n",
        "\n",
        "scaler = StandardScaler()\n",
        "\n",
        "# scaler fit without 'cnt'\n",
        "scaler.fit(remaining_features_data.drop(columns=['cnt']))\n",
        "\n",
        "scaled_features = scaler.transform(remaining_features_data.drop(columns=['cnt']))\n",
        "\n",
        "# DF with 'cnt'\n",
        "scaler_df = pd.DataFrame(scaled_features, columns=remaining_features_data.drop(columns=['cnt']).columns)\n",
        "scaler_df['cnt'] = remaining_features_data['cnt']\n",
        "\n",
        "print(scaler_df.head())\n"
      ],
      "metadata": {
        "id": "8HrhCvIWItfD",
        "colab": {
          "base_uri": "https://localhost:8080/"
        },
        "outputId": "7fff8718-a514-48c4-c5eb-31fdc6e73dfd"
      },
      "execution_count": null,
      "outputs": [
        {
          "output_type": "stream",
          "name": "stdout",
          "text": [
            "       mnth      temp       hum  windspeed  season_2  season_3  weathersit_2  \\\n",
            "0 -1.600161 -0.826662  1.250171  -0.387892 -0.579983 -0.588409      1.399826   \n",
            "1 -1.600161 -0.721095  0.479113   0.749602 -0.579983 -0.588409      1.399826   \n",
            "2 -1.600161 -1.634657 -1.339274   0.746632 -0.579983 -0.588409     -0.714374   \n",
            "3 -1.600161 -1.614780 -0.263182  -0.389829 -0.579983 -0.588409     -0.714374   \n",
            "4 -1.600161 -1.467414 -1.341494  -0.046307 -0.579983 -0.588409     -0.714374   \n",
            "\n",
            "   weathersit_3   cnt  \n",
            "0     -0.171981   985  \n",
            "1     -0.171981   801  \n",
            "2     -0.171981  1349  \n",
            "3     -0.171981  1562  \n",
            "4     -0.171981  1600  \n"
          ]
        }
      ]
    },
    {
      "cell_type": "markdown",
      "source": [
        "## 4. Model Building and Evalutaion\n",
        "\n",
        "After selecting the most relevant features, the next step is to build and evaluate machine learning models."
      ],
      "metadata": {
        "id": "O_HBmH-cFSpc"
      }
    },
    {
      "cell_type": "markdown",
      "source": [
        "4.1 Split the dataset into training set, validation set, and test set, with a 70:15:15 ratio."
      ],
      "metadata": {
        "id": "w59fiBy2FXm_"
      }
    },
    {
      "cell_type": "code",
      "source": [
        "from sklearn.model_selection import train_test_split\n",
        "\n",
        "# Traning 70 temp 30\n",
        "train_data, temp_data = train_test_split(scaler_df, test_size=0.3, random_state=42)\n",
        "\n",
        "# Temp to validation 15 test 15\n",
        "val_data, test_data = train_test_split(temp_data, test_size=0.5, random_state=42)\n",
        "\n",
        "print(\"Training:\", train_data.shape)\n",
        "print(\"Validation:\", val_data.shape)\n",
        "print(\"Test:\", test_data.shape)\n"
      ],
      "metadata": {
        "id": "ZFNwvRNgFdz4",
        "colab": {
          "base_uri": "https://localhost:8080/"
        },
        "outputId": "18bf14a1-198e-47b8-e6b0-56c42fb5749b"
      },
      "execution_count": null,
      "outputs": [
        {
          "output_type": "stream",
          "name": "stdout",
          "text": [
            "Training: (511, 9)\n",
            "Validation: (110, 9)\n",
            "Test: (110, 9)\n"
          ]
        }
      ]
    },
    {
      "cell_type": "markdown",
      "source": [
        "4.2 Build a linear regression model on the dataset as the baseline model."
      ],
      "metadata": {
        "id": "p5rTqoTaFd9y"
      }
    },
    {
      "cell_type": "code",
      "source": [
        "from sklearn.linear_model import LinearRegression\n",
        "\n",
        "X_train = train_data.drop(columns=['cnt'])\n",
        "y_train = train_data['cnt']\n",
        "\n",
        "linear_reg_model = LinearRegression()\n",
        "\n",
        "linear_reg_model.fit(X_train, y_train)\n"
      ],
      "metadata": {
        "id": "ZAsuxRmmFi0r",
        "colab": {
          "base_uri": "https://localhost:8080/",
          "height": 74
        },
        "outputId": "09d583b6-1646-4757-a5f3-c8d897520d8b"
      },
      "execution_count": null,
      "outputs": [
        {
          "output_type": "execute_result",
          "data": {
            "text/plain": [
              "LinearRegression()"
            ],
            "text/html": [
              "<style>#sk-container-id-3 {color: black;background-color: white;}#sk-container-id-3 pre{padding: 0;}#sk-container-id-3 div.sk-toggleable {background-color: white;}#sk-container-id-3 label.sk-toggleable__label {cursor: pointer;display: block;width: 100%;margin-bottom: 0;padding: 0.3em;box-sizing: border-box;text-align: center;}#sk-container-id-3 label.sk-toggleable__label-arrow:before {content: \"▸\";float: left;margin-right: 0.25em;color: #696969;}#sk-container-id-3 label.sk-toggleable__label-arrow:hover:before {color: black;}#sk-container-id-3 div.sk-estimator:hover label.sk-toggleable__label-arrow:before {color: black;}#sk-container-id-3 div.sk-toggleable__content {max-height: 0;max-width: 0;overflow: hidden;text-align: left;background-color: #f0f8ff;}#sk-container-id-3 div.sk-toggleable__content pre {margin: 0.2em;color: black;border-radius: 0.25em;background-color: #f0f8ff;}#sk-container-id-3 input.sk-toggleable__control:checked~div.sk-toggleable__content {max-height: 200px;max-width: 100%;overflow: auto;}#sk-container-id-3 input.sk-toggleable__control:checked~label.sk-toggleable__label-arrow:before {content: \"▾\";}#sk-container-id-3 div.sk-estimator input.sk-toggleable__control:checked~label.sk-toggleable__label {background-color: #d4ebff;}#sk-container-id-3 div.sk-label input.sk-toggleable__control:checked~label.sk-toggleable__label {background-color: #d4ebff;}#sk-container-id-3 input.sk-hidden--visually {border: 0;clip: rect(1px 1px 1px 1px);clip: rect(1px, 1px, 1px, 1px);height: 1px;margin: -1px;overflow: hidden;padding: 0;position: absolute;width: 1px;}#sk-container-id-3 div.sk-estimator {font-family: monospace;background-color: #f0f8ff;border: 1px dotted black;border-radius: 0.25em;box-sizing: border-box;margin-bottom: 0.5em;}#sk-container-id-3 div.sk-estimator:hover {background-color: #d4ebff;}#sk-container-id-3 div.sk-parallel-item::after {content: \"\";width: 100%;border-bottom: 1px solid gray;flex-grow: 1;}#sk-container-id-3 div.sk-label:hover label.sk-toggleable__label {background-color: #d4ebff;}#sk-container-id-3 div.sk-serial::before {content: \"\";position: absolute;border-left: 1px solid gray;box-sizing: border-box;top: 0;bottom: 0;left: 50%;z-index: 0;}#sk-container-id-3 div.sk-serial {display: flex;flex-direction: column;align-items: center;background-color: white;padding-right: 0.2em;padding-left: 0.2em;position: relative;}#sk-container-id-3 div.sk-item {position: relative;z-index: 1;}#sk-container-id-3 div.sk-parallel {display: flex;align-items: stretch;justify-content: center;background-color: white;position: relative;}#sk-container-id-3 div.sk-item::before, #sk-container-id-3 div.sk-parallel-item::before {content: \"\";position: absolute;border-left: 1px solid gray;box-sizing: border-box;top: 0;bottom: 0;left: 50%;z-index: -1;}#sk-container-id-3 div.sk-parallel-item {display: flex;flex-direction: column;z-index: 1;position: relative;background-color: white;}#sk-container-id-3 div.sk-parallel-item:first-child::after {align-self: flex-end;width: 50%;}#sk-container-id-3 div.sk-parallel-item:last-child::after {align-self: flex-start;width: 50%;}#sk-container-id-3 div.sk-parallel-item:only-child::after {width: 0;}#sk-container-id-3 div.sk-dashed-wrapped {border: 1px dashed gray;margin: 0 0.4em 0.5em 0.4em;box-sizing: border-box;padding-bottom: 0.4em;background-color: white;}#sk-container-id-3 div.sk-label label {font-family: monospace;font-weight: bold;display: inline-block;line-height: 1.2em;}#sk-container-id-3 div.sk-label-container {text-align: center;}#sk-container-id-3 div.sk-container {/* jupyter's `normalize.less` sets `[hidden] { display: none; }` but bootstrap.min.css set `[hidden] { display: none !important; }` so we also need the `!important` here to be able to override the default hidden behavior on the sphinx rendered scikit-learn.org. See: https://github.com/scikit-learn/scikit-learn/issues/21755 */display: inline-block !important;position: relative;}#sk-container-id-3 div.sk-text-repr-fallback {display: none;}</style><div id=\"sk-container-id-3\" class=\"sk-top-container\"><div class=\"sk-text-repr-fallback\"><pre>LinearRegression()</pre><b>In a Jupyter environment, please rerun this cell to show the HTML representation or trust the notebook. <br />On GitHub, the HTML representation is unable to render, please try loading this page with nbviewer.org.</b></div><div class=\"sk-container\" hidden><div class=\"sk-item\"><div class=\"sk-estimator sk-toggleable\"><input class=\"sk-toggleable__control sk-hidden--visually\" id=\"sk-estimator-id-3\" type=\"checkbox\" checked><label for=\"sk-estimator-id-3\" class=\"sk-toggleable__label sk-toggleable__label-arrow\">LinearRegression</label><div class=\"sk-toggleable__content\"><pre>LinearRegression()</pre></div></div></div></div></div>"
            ]
          },
          "metadata": {},
          "execution_count": 106
        }
      ]
    },
    {
      "cell_type": "markdown",
      "source": [
        "4.3 Build a degree-2 polynomial regression model with L1 regularization."
      ],
      "metadata": {
        "id": "Lm1c2S9OFjBI"
      }
    },
    {
      "cell_type": "code",
      "source": [
        "from sklearn.preprocessing import PolynomialFeatures\n",
        "from sklearn.linear_model import Lasso\n",
        "from sklearn.pipeline import make_pipeline\n",
        "from sklearn.metrics import mean_squared_error\n",
        "\n",
        "# polynomial features and Lasso regression\n",
        "degree = 2\n",
        "alpha = 0.1\n",
        "max_iter = 10000  #Coverage warning!\n",
        "poly_reg_model = make_pipeline(\n",
        "    PolynomialFeatures(degree),\n",
        "    StandardScaler(),\n",
        "    Lasso(alpha=alpha, max_iter=max_iter)\n",
        ")\n",
        "\n",
        "poly_reg_model.fit(X_train, y_train)\n",
        "\n",
        "train_predictions = poly_reg_model.predict(X_train)\n",
        "\n",
        "# MSE\n",
        "train_mse = mean_squared_error(y_train, train_predictions)\n",
        "\n",
        "print(\"Training MSE:\", train_mse)"
      ],
      "metadata": {
        "id": "jrr39xF9FvXa",
        "colab": {
          "base_uri": "https://localhost:8080/"
        },
        "outputId": "b0b56ce3-4145-4747-8bc0-f03c4e59f751"
      },
      "execution_count": null,
      "outputs": [
        {
          "output_type": "stream",
          "name": "stdout",
          "text": [
            "Training MSE: 1365688.2540325422\n"
          ]
        }
      ]
    },
    {
      "cell_type": "markdown",
      "source": [
        "4.4 Perform 5-fold cross-validation on both models to ensure that the model's performance is consistent across different subsets of the data."
      ],
      "metadata": {
        "id": "-bsKu2PmGOMf"
      }
    },
    {
      "cell_type": "code",
      "source": [
        "from sklearn.model_selection import cross_val_score\n",
        "from sklearn.preprocessing import PolynomialFeatures, StandardScaler\n",
        "from sklearn.linear_model import LinearRegression, Lasso\n",
        "from sklearn.pipeline import make_pipeline\n",
        "\n",
        "degree = 2\n",
        "alpha = 0.1\n",
        "max_iter = 20000\n",
        "\n",
        "# linear\n",
        "linear_reg_model = LinearRegression()\n",
        "linear_reg_model.fit(X_train, y_train)\n",
        "\n",
        "#Poly\n",
        "poly_reg_model = make_pipeline(\n",
        "    PolynomialFeatures(degree),\n",
        "    StandardScaler(),\n",
        "    Lasso(alpha=alpha, max_iter=max_iter)\n",
        ")\n",
        "poly_reg_model.fit(X_train, y_train)\n",
        "\n",
        "# 5-fold cross-validation linear reg\n",
        "mse_scores_linear = cross_val_score(linear_reg_model, X_train, y_train, cv=5, scoring='neg_mean_squared_error')\n",
        "mean_mse_linear = -mse_scores_linear.mean()\n",
        "\n",
        "# 5-fold cross-validation polynomial reg\n",
        "mse_scores_poly = cross_val_score(poly_reg_model, X_train, y_train, cv=5, scoring='neg_mean_squared_error')\n",
        "mean_mse_poly = -mse_scores_poly.mean()\n",
        "\n",
        "print(f\"Mean MSE for Linear Regression: {mean_mse_linear}\")\n",
        "print(f\"Mean MSE for Polynomial Regression: {mean_mse_poly}\")\n"
      ],
      "metadata": {
        "id": "pmWms1R-GNvd",
        "colab": {
          "base_uri": "https://localhost:8080/"
        },
        "outputId": "8b2160b7-c00d-4525-fc04-4b9b21ddc404"
      },
      "execution_count": null,
      "outputs": [
        {
          "output_type": "stream",
          "name": "stdout",
          "text": [
            "Mean MSE for Linear Regression: 1805388.2564657866\n",
            "Mean MSE for Polynomial Regression: 1773597.3514954026\n"
          ]
        }
      ]
    },
    {
      "cell_type": "markdown",
      "source": [
        "4.5 Model evaluation: Calculate the RMSE of both models on the validation set."
      ],
      "metadata": {
        "id": "GxfYNMGiFvyr"
      }
    },
    {
      "cell_type": "code",
      "source": [
        "from sklearn.metrics import mean_squared_error\n",
        "import numpy as np\n",
        "\n",
        "\n",
        "X_val = val_data.drop(columns=['cnt'])\n",
        "y_val = val_data['cnt']\n",
        "\n",
        "# Predictions Linear model\n",
        "linear_reg_val_predictions = linear_reg_model.predict(X_val)\n",
        "\n",
        "# RMSE\n",
        "linear_reg_val_rmse = np.sqrt(mean_squared_error(y_val, linear_reg_val_predictions))\n",
        "\n",
        "# Predictions polynomial model\n",
        "poly_reg_val_predictions = poly_reg_model.predict(X_val)\n",
        "\n",
        "# RMSE\n",
        "poly_reg_val_rmse = np.sqrt(mean_squared_error(y_val, poly_reg_val_predictions))\n",
        "\n",
        "print(f\"RMSE Linear model: {linear_reg_val_rmse}\")\n",
        "print(f\"RMSE polynomial model: {poly_reg_val_rmse}\")\n",
        "\n",
        "#Here the polynomial model indicates better predictive models"
      ],
      "metadata": {
        "id": "8cDc_SV3GamC",
        "colab": {
          "base_uri": "https://localhost:8080/"
        },
        "outputId": "5748ce5a-ca0f-4389-e00f-7d1956bc2a5b"
      },
      "execution_count": null,
      "outputs": [
        {
          "output_type": "stream",
          "name": "stdout",
          "text": [
            "RMSE Linear model: 1380.8698380712858\n",
            "RMSE polynomial model: 1186.3526932402676\n"
          ]
        }
      ]
    },
    {
      "cell_type": "markdown",
      "source": [
        "## Phase 5: Model Fine-Tuning\n",
        "\n",
        "Let's fine-tune the polynomial model to optimize its performance."
      ],
      "metadata": {
        "id": "ARDSifH4GbC9"
      }
    },
    {
      "cell_type": "markdown",
      "source": [
        "5.1 Use grid search to fine-tune the hyperparameters of the polynomial model, including:\n",
        "- degree of the polynomial\n",
        "- regularization coefficient `alpha`\n",
        "\n",
        "**Note:** As these two hyper-parameters are used in different places, `GridSearchCV` may not be directly applicable. You need to use for-loops to example all combinations of values."
      ],
      "metadata": {
        "id": "sAZQnyPwGk_q"
      }
    },
    {
      "cell_type": "code",
      "source": [
        "from sklearn.pipeline import Pipeline\n",
        "from sklearn.preprocessing import PolynomialFeatures, StandardScaler\n",
        "from sklearn.linear_model import Lasso\n",
        "from sklearn.model_selection import GridSearchCV\n",
        "import numpy as np\n",
        "\n",
        "pipeline = Pipeline([\n",
        "    (\"scaler\", StandardScaler()),\n",
        "    (\"polynomial_features\", PolynomialFeatures()),\n",
        "    (\"lasso\", Lasso())\n",
        "])\n",
        "\n",
        "param_grid = {\n",
        "    \"polynomial_features__degree\": [1, 2, 3],\n",
        "    \"lasso__alpha\": np.logspace(-3, 3, 7)\n",
        "}\n",
        "\n",
        "grid_search = GridSearchCV(pipeline, param_grid, cv=5, verbose=1)\n",
        "\n",
        "# model fit\n",
        "grid_search.fit(X_train, y_train)\n",
        "\n",
        "best_params = grid_search.best_params_\n",
        "print(\"Best hyperparameters:\", best_params)\n",
        "\n",
        "#I tried with greater max_iterater and went over 100000 but still had the coverage issue. The results still showed\n",
        "#polynomial feature degree: 2 so now I will use this.\n"
      ],
      "metadata": {
        "id": "zKFTdX2ZHCc0",
        "colab": {
          "base_uri": "https://localhost:8080/"
        },
        "outputId": "9b2d0193-1ac1-458a-a6d8-b917ab6f959a"
      },
      "execution_count": null,
      "outputs": [
        {
          "output_type": "stream",
          "name": "stdout",
          "text": [
            "Fitting 5 folds for each of 21 candidates, totalling 105 fits\n"
          ]
        },
        {
          "output_type": "stream",
          "name": "stderr",
          "text": [
            "/usr/local/lib/python3.10/dist-packages/sklearn/linear_model/_coordinate_descent.py:631: ConvergenceWarning: Objective did not converge. You might want to increase the number of iterations, check the scale of the features or consider increasing regularisation. Duality gap: 7.115e+07, tolerance: 1.497e+05\n",
            "  model = cd_fast.enet_coordinate_descent(\n",
            "/usr/local/lib/python3.10/dist-packages/sklearn/linear_model/_coordinate_descent.py:631: ConvergenceWarning: Objective did not converge. You might want to increase the number of iterations, check the scale of the features or consider increasing regularisation. Duality gap: 1.137e+08, tolerance: 1.475e+05\n",
            "  model = cd_fast.enet_coordinate_descent(\n",
            "/usr/local/lib/python3.10/dist-packages/sklearn/linear_model/_coordinate_descent.py:631: ConvergenceWarning: Objective did not converge. You might want to increase the number of iterations, check the scale of the features or consider increasing regularisation. Duality gap: 9.021e+07, tolerance: 1.464e+05\n",
            "  model = cd_fast.enet_coordinate_descent(\n",
            "/usr/local/lib/python3.10/dist-packages/sklearn/linear_model/_coordinate_descent.py:631: ConvergenceWarning: Objective did not converge. You might want to increase the number of iterations, check the scale of the features or consider increasing regularisation. Duality gap: 1.206e+08, tolerance: 1.513e+05\n",
            "  model = cd_fast.enet_coordinate_descent(\n",
            "/usr/local/lib/python3.10/dist-packages/sklearn/linear_model/_coordinate_descent.py:631: ConvergenceWarning: Objective did not converge. You might want to increase the number of iterations, check the scale of the features or consider increasing regularisation. Duality gap: 1.167e+08, tolerance: 1.481e+05\n",
            "  model = cd_fast.enet_coordinate_descent(\n",
            "/usr/local/lib/python3.10/dist-packages/sklearn/linear_model/_coordinate_descent.py:631: ConvergenceWarning: Objective did not converge. You might want to increase the number of iterations, check the scale of the features or consider increasing regularisation. Duality gap: 2.127e+08, tolerance: 1.497e+05\n",
            "  model = cd_fast.enet_coordinate_descent(\n",
            "/usr/local/lib/python3.10/dist-packages/sklearn/linear_model/_coordinate_descent.py:631: ConvergenceWarning: Objective did not converge. You might want to increase the number of iterations, check the scale of the features or consider increasing regularisation. Duality gap: 2.151e+08, tolerance: 1.475e+05\n",
            "  model = cd_fast.enet_coordinate_descent(\n",
            "/usr/local/lib/python3.10/dist-packages/sklearn/linear_model/_coordinate_descent.py:631: ConvergenceWarning: Objective did not converge. You might want to increase the number of iterations, check the scale of the features or consider increasing regularisation. Duality gap: 2.035e+08, tolerance: 1.464e+05\n",
            "  model = cd_fast.enet_coordinate_descent(\n",
            "/usr/local/lib/python3.10/dist-packages/sklearn/linear_model/_coordinate_descent.py:631: ConvergenceWarning: Objective did not converge. You might want to increase the number of iterations, check the scale of the features or consider increasing regularisation. Duality gap: 2.171e+08, tolerance: 1.513e+05\n",
            "  model = cd_fast.enet_coordinate_descent(\n",
            "/usr/local/lib/python3.10/dist-packages/sklearn/linear_model/_coordinate_descent.py:631: ConvergenceWarning: Objective did not converge. You might want to increase the number of iterations, check the scale of the features or consider increasing regularisation. Duality gap: 2.022e+08, tolerance: 1.481e+05\n",
            "  model = cd_fast.enet_coordinate_descent(\n",
            "/usr/local/lib/python3.10/dist-packages/sklearn/linear_model/_coordinate_descent.py:631: ConvergenceWarning: Objective did not converge. You might want to increase the number of iterations, check the scale of the features or consider increasing regularisation. Duality gap: 7.117e+07, tolerance: 1.497e+05\n",
            "  model = cd_fast.enet_coordinate_descent(\n",
            "/usr/local/lib/python3.10/dist-packages/sklearn/linear_model/_coordinate_descent.py:631: ConvergenceWarning: Objective did not converge. You might want to increase the number of iterations, check the scale of the features or consider increasing regularisation. Duality gap: 1.187e+08, tolerance: 1.475e+05\n",
            "  model = cd_fast.enet_coordinate_descent(\n",
            "/usr/local/lib/python3.10/dist-packages/sklearn/linear_model/_coordinate_descent.py:631: ConvergenceWarning: Objective did not converge. You might want to increase the number of iterations, check the scale of the features or consider increasing regularisation. Duality gap: 9.023e+07, tolerance: 1.464e+05\n",
            "  model = cd_fast.enet_coordinate_descent(\n",
            "/usr/local/lib/python3.10/dist-packages/sklearn/linear_model/_coordinate_descent.py:631: ConvergenceWarning: Objective did not converge. You might want to increase the number of iterations, check the scale of the features or consider increasing regularisation. Duality gap: 1.206e+08, tolerance: 1.513e+05\n",
            "  model = cd_fast.enet_coordinate_descent(\n",
            "/usr/local/lib/python3.10/dist-packages/sklearn/linear_model/_coordinate_descent.py:631: ConvergenceWarning: Objective did not converge. You might want to increase the number of iterations, check the scale of the features or consider increasing regularisation. Duality gap: 1.182e+08, tolerance: 1.481e+05\n",
            "  model = cd_fast.enet_coordinate_descent(\n",
            "/usr/local/lib/python3.10/dist-packages/sklearn/linear_model/_coordinate_descent.py:631: ConvergenceWarning: Objective did not converge. You might want to increase the number of iterations, check the scale of the features or consider increasing regularisation. Duality gap: 2.019e+08, tolerance: 1.497e+05\n",
            "  model = cd_fast.enet_coordinate_descent(\n",
            "/usr/local/lib/python3.10/dist-packages/sklearn/linear_model/_coordinate_descent.py:631: ConvergenceWarning: Objective did not converge. You might want to increase the number of iterations, check the scale of the features or consider increasing regularisation. Duality gap: 1.920e+08, tolerance: 1.475e+05\n",
            "  model = cd_fast.enet_coordinate_descent(\n",
            "/usr/local/lib/python3.10/dist-packages/sklearn/linear_model/_coordinate_descent.py:631: ConvergenceWarning: Objective did not converge. You might want to increase the number of iterations, check the scale of the features or consider increasing regularisation. Duality gap: 1.991e+08, tolerance: 1.464e+05\n",
            "  model = cd_fast.enet_coordinate_descent(\n",
            "/usr/local/lib/python3.10/dist-packages/sklearn/linear_model/_coordinate_descent.py:631: ConvergenceWarning: Objective did not converge. You might want to increase the number of iterations, check the scale of the features or consider increasing regularisation. Duality gap: 2.110e+08, tolerance: 1.513e+05\n",
            "  model = cd_fast.enet_coordinate_descent(\n",
            "/usr/local/lib/python3.10/dist-packages/sklearn/linear_model/_coordinate_descent.py:631: ConvergenceWarning: Objective did not converge. You might want to increase the number of iterations, check the scale of the features or consider increasing regularisation. Duality gap: 1.919e+08, tolerance: 1.481e+05\n",
            "  model = cd_fast.enet_coordinate_descent(\n",
            "/usr/local/lib/python3.10/dist-packages/sklearn/linear_model/_coordinate_descent.py:631: ConvergenceWarning: Objective did not converge. You might want to increase the number of iterations, check the scale of the features or consider increasing regularisation. Duality gap: 7.982e+07, tolerance: 1.497e+05\n",
            "  model = cd_fast.enet_coordinate_descent(\n",
            "/usr/local/lib/python3.10/dist-packages/sklearn/linear_model/_coordinate_descent.py:631: ConvergenceWarning: Objective did not converge. You might want to increase the number of iterations, check the scale of the features or consider increasing regularisation. Duality gap: 6.852e+07, tolerance: 1.475e+05\n",
            "  model = cd_fast.enet_coordinate_descent(\n",
            "/usr/local/lib/python3.10/dist-packages/sklearn/linear_model/_coordinate_descent.py:631: ConvergenceWarning: Objective did not converge. You might want to increase the number of iterations, check the scale of the features or consider increasing regularisation. Duality gap: 7.022e+07, tolerance: 1.464e+05\n",
            "  model = cd_fast.enet_coordinate_descent(\n",
            "/usr/local/lib/python3.10/dist-packages/sklearn/linear_model/_coordinate_descent.py:631: ConvergenceWarning: Objective did not converge. You might want to increase the number of iterations, check the scale of the features or consider increasing regularisation. Duality gap: 1.046e+08, tolerance: 1.513e+05\n",
            "  model = cd_fast.enet_coordinate_descent(\n",
            "/usr/local/lib/python3.10/dist-packages/sklearn/linear_model/_coordinate_descent.py:631: ConvergenceWarning: Objective did not converge. You might want to increase the number of iterations, check the scale of the features or consider increasing regularisation. Duality gap: 6.980e+07, tolerance: 1.481e+05\n",
            "  model = cd_fast.enet_coordinate_descent(\n",
            "/usr/local/lib/python3.10/dist-packages/sklearn/linear_model/_coordinate_descent.py:631: ConvergenceWarning: Objective did not converge. You might want to increase the number of iterations, check the scale of the features or consider increasing regularisation. Duality gap: 1.291e+08, tolerance: 1.497e+05\n",
            "  model = cd_fast.enet_coordinate_descent(\n",
            "/usr/local/lib/python3.10/dist-packages/sklearn/linear_model/_coordinate_descent.py:631: ConvergenceWarning: Objective did not converge. You might want to increase the number of iterations, check the scale of the features or consider increasing regularisation. Duality gap: 1.563e+08, tolerance: 1.475e+05\n",
            "  model = cd_fast.enet_coordinate_descent(\n",
            "/usr/local/lib/python3.10/dist-packages/sklearn/linear_model/_coordinate_descent.py:631: ConvergenceWarning: Objective did not converge. You might want to increase the number of iterations, check the scale of the features or consider increasing regularisation. Duality gap: 1.238e+08, tolerance: 1.464e+05\n",
            "  model = cd_fast.enet_coordinate_descent(\n",
            "/usr/local/lib/python3.10/dist-packages/sklearn/linear_model/_coordinate_descent.py:631: ConvergenceWarning: Objective did not converge. You might want to increase the number of iterations, check the scale of the features or consider increasing regularisation. Duality gap: 1.573e+08, tolerance: 1.513e+05\n",
            "  model = cd_fast.enet_coordinate_descent(\n",
            "/usr/local/lib/python3.10/dist-packages/sklearn/linear_model/_coordinate_descent.py:631: ConvergenceWarning: Objective did not converge. You might want to increase the number of iterations, check the scale of the features or consider increasing regularisation. Duality gap: 1.390e+08, tolerance: 1.481e+05\n",
            "  model = cd_fast.enet_coordinate_descent(\n",
            "/usr/local/lib/python3.10/dist-packages/sklearn/linear_model/_coordinate_descent.py:631: ConvergenceWarning: Objective did not converge. You might want to increase the number of iterations, check the scale of the features or consider increasing regularisation. Duality gap: 1.295e+08, tolerance: 1.497e+05\n",
            "  model = cd_fast.enet_coordinate_descent(\n",
            "/usr/local/lib/python3.10/dist-packages/sklearn/linear_model/_coordinate_descent.py:631: ConvergenceWarning: Objective did not converge. You might want to increase the number of iterations, check the scale of the features or consider increasing regularisation. Duality gap: 9.377e+07, tolerance: 1.475e+05\n",
            "  model = cd_fast.enet_coordinate_descent(\n",
            "/usr/local/lib/python3.10/dist-packages/sklearn/linear_model/_coordinate_descent.py:631: ConvergenceWarning: Objective did not converge. You might want to increase the number of iterations, check the scale of the features or consider increasing regularisation. Duality gap: 4.081e+07, tolerance: 1.464e+05\n",
            "  model = cd_fast.enet_coordinate_descent(\n",
            "/usr/local/lib/python3.10/dist-packages/sklearn/linear_model/_coordinate_descent.py:631: ConvergenceWarning: Objective did not converge. You might want to increase the number of iterations, check the scale of the features or consider increasing regularisation. Duality gap: 6.135e+07, tolerance: 1.513e+05\n",
            "  model = cd_fast.enet_coordinate_descent(\n",
            "/usr/local/lib/python3.10/dist-packages/sklearn/linear_model/_coordinate_descent.py:631: ConvergenceWarning: Objective did not converge. You might want to increase the number of iterations, check the scale of the features or consider increasing regularisation. Duality gap: 6.146e+07, tolerance: 1.481e+05\n",
            "  model = cd_fast.enet_coordinate_descent(\n"
          ]
        },
        {
          "output_type": "stream",
          "name": "stdout",
          "text": [
            "Best hyperparameters: {'lasso__alpha': 100.0, 'polynomial_features__degree': 2}\n"
          ]
        }
      ]
    },
    {
      "cell_type": "markdown",
      "source": [
        "5.2 Perform 5-fold cross validation on the model with the optimal set of hyperparameter values."
      ],
      "metadata": {
        "id": "1OSfDm35HC7n"
      }
    },
    {
      "cell_type": "code",
      "source": [
        "from sklearn.model_selection import cross_val_score\n",
        "\n",
        "best_model = grid_search.best_estimator_\n",
        "\n",
        "# 5-fold cross-validation\n",
        "cv_scores = cross_val_score(best_model, X_train, y_train, cv=5)\n",
        "\n",
        "print(\"Cross-validation scores:\", cv_scores)\n",
        "\n",
        "mean_cv_score = np.mean(cv_scores)\n",
        "print(\"Mean cross-validation score:\", mean_cv_score)\n"
      ],
      "metadata": {
        "id": "Ai9ULEUqHKi2",
        "colab": {
          "base_uri": "https://localhost:8080/"
        },
        "outputId": "fd5b7086-8d35-4b43-de46-2c5b0945f389"
      },
      "execution_count": null,
      "outputs": [
        {
          "output_type": "stream",
          "name": "stdout",
          "text": [
            "Cross-validation scores: [0.51431227 0.65212516 0.49861131 0.52942579 0.56320316]\n",
            "Mean cross-validation score: 0.5515355367654223\n"
          ]
        }
      ]
    },
    {
      "cell_type": "markdown",
      "source": [
        "5.3 Calculate the RMSE of the final model on the test set."
      ],
      "metadata": {
        "id": "Tg3tJTfvHKy1"
      }
    },
    {
      "cell_type": "code",
      "source": [
        "from sklearn.metrics import mean_squared_error\n",
        "import numpy as np\n",
        "\n",
        "y_pred = best_model.predict(X_train)\n",
        "\n",
        "\n",
        "rmse = np.sqrt(mean_squared_error(y_train, y_pred))\n",
        "\n",
        "print(\"Root Mean Squared Error (RMSE) on test set:\", rmse)\n"
      ],
      "metadata": {
        "id": "_5gyv-FAHP7l",
        "colab": {
          "base_uri": "https://localhost:8080/"
        },
        "outputId": "e8158c9c-1e14-43b5-a232-9b4342096f0e"
      },
      "execution_count": null,
      "outputs": [
        {
          "output_type": "stream",
          "name": "stdout",
          "text": [
            "Root Mean Squared Error (RMSE) on test set: 1234.4914392991382\n"
          ]
        }
      ]
    },
    {
      "cell_type": "markdown",
      "source": [
        "5.4. Compare the above RMSE with the histogram of the 'cnt' column. How would you describe the prediction power of the machine learning model?"
      ],
      "metadata": {
        "id": "I1itOr5BHUtb"
      }
    },
    {
      "cell_type": "code",
      "source": [
        "from sklearn.model_selection import train_test_split\n",
        "from sklearn.pipeline import make_pipeline\n",
        "from sklearn.preprocessing import PolynomialFeatures\n",
        "from sklearn.linear_model import Lasso\n",
        "import matplotlib.pyplot as plt\n",
        "\n",
        "best_degree = 2\n",
        "best_alpha = 100.0\n",
        "final_model = make_pipeline(PolynomialFeatures(degree=best_degree), Lasso(alpha=best_alpha))\n",
        "\n",
        "final_model.fit(X_train, y_train)\n",
        "\n",
        "val_preds = final_model.predict(X_val)\n",
        "\n",
        "# Histogram\n",
        "plt.figure(figsize=(10, 6))\n",
        "plt.hist(y_val, bins=20, alpha=0.5, color='blue', label='Actual Bike Rentals (Validation)')\n",
        "plt.hist(val_preds, bins=20, alpha=0.5, color='orange', label='Predicted Bike Rentals (Validation)')\n",
        "plt.xlabel('Number of Bike Rentals')\n",
        "plt.ylabel('Frequency')\n",
        "plt.title('Comparison of Actual vs Predicted Bike Rentals (Validation Set)')\n",
        "plt.legend()\n",
        "plt.grid(True)\n",
        "plt.show()\n",
        "\n",
        "\n",
        "#We saw the RMSE being 1234.49, and the linear model was around 1380.86, Polynomial was 1186.35.\n",
        "# This shows that my model performed better than the linear model but not better than the polynomial model.\n",
        "# When we start looking into the histogram we can also see that our predictions 2000 to 6000 bikes were aligned a lot\n",
        "# but ours spiked higher or lowers more less or larger numbers. We could definately improve our model with better hyperparameter tuning,\n",
        "# better cross-validation and regularization."
      ],
      "metadata": {
        "id": "s1Nw897rHahm",
        "colab": {
          "base_uri": "https://localhost:8080/",
          "height": 564
        },
        "outputId": "e6689c84-b8a8-4c4e-d4d2-900c11c9402a"
      },
      "execution_count": null,
      "outputs": [
        {
          "output_type": "display_data",
          "data": {
            "text/plain": [
              "<Figure size 1000x600 with 1 Axes>"
            ],
            "image/png": "[encoded data removed]"
          },
          "metadata": {}
        }
      ]
    }
  ]
}